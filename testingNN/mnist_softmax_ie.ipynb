{
 "cells": [
  {
   "cell_type": "markdown",
   "metadata": {},
   "source": [
    "# Calculating Information Entropy after MNIST Dataset Prediction"
   ]
  },
  {
   "cell_type": "markdown",
   "metadata": {},
   "source": [
    "## Loading Packages and Settings"
   ]
  },
  {
   "cell_type": "code",
   "execution_count": 1,
   "metadata": {},
   "outputs": [],
   "source": [
    "import os\n",
    "# # GPU Settings\n",
    "# os.environ[\"CUDA_VISIBLE_DEVICES\"] = \"1\""
   ]
  },
  {
   "cell_type": "code",
   "execution_count": 2,
   "metadata": {},
   "outputs": [],
   "source": [
    "import numpy as np\n",
    "import matplotlib.pyplot as plt\n",
    "import time\n",
    "\n",
    "from keras.datasets import mnist\n",
    "from keras.models import Sequential, load_model\n",
    "from keras.layers import Dense, Dropout, Flatten\n",
    "from keras.layers.convolutional import Conv2D, MaxPooling2D\n",
    "from keras.utils import np_utils\n",
    "from keras.regularizers import l2\n",
    "import keras.backend as K"
   ]
  },
  {
   "cell_type": "code",
   "execution_count": 3,
   "metadata": {},
   "outputs": [],
   "source": [
    "K.image_data_format() == \"tf\"\n",
    "seed = 0\n",
    "np.random.seed(seed)"
   ]
  },
  {
   "cell_type": "markdown",
   "metadata": {},
   "source": [
    "## MNIST Dataset"
   ]
  },
  {
   "cell_type": "markdown",
   "metadata": {},
   "source": [
    "### View Data Dimensions"
   ]
  },
  {
   "cell_type": "code",
   "execution_count": 4,
   "metadata": {
    "scrolled": true
   },
   "outputs": [
    {
     "name": "stdout",
     "output_type": "stream",
     "text": [
      "X Train Shape: (60000, 28, 28) \n",
      "Y Train Shape: (60000,)\n",
      "X Test Shape: (10000, 28, 28) \n",
      "Y Test Shape: (10000,)\n"
     ]
    }
   ],
   "source": [
    "(x_train, y_train), (x_test, y_test) = mnist.load_data()\n",
    "print(\"X Train Shape:\", x_train.shape, \"\\nY Train Shape:\", y_train.shape)\n",
    "print(\"X Test Shape:\", x_test.shape, \"\\nY Test Shape:\", y_test.shape)"
   ]
  },
  {
   "cell_type": "code",
   "execution_count": 5,
   "metadata": {},
   "outputs": [],
   "source": [
    "img_rows, img_cols = 28, 28\n",
    "num_classes = 10"
   ]
  },
  {
   "cell_type": "markdown",
   "metadata": {},
   "source": [
    "### View a Sample Data"
   ]
  },
  {
   "cell_type": "code",
   "execution_count": 6,
   "metadata": {},
   "outputs": [
    {
     "data": {
      "text/plain": [
       "(-0.5, 27.5, 27.5, -0.5)"
      ]
     },
     "execution_count": 6,
     "metadata": {},
     "output_type": "execute_result"
    },
    {
     "data": {
      "image/png": "[encoded data removed]",
      "text/plain": [
       "<Figure size 432x288 with 1 Axes>"
      ]
     },
     "metadata": {
      "needs_background": "light"
     },
     "output_type": "display_data"
    }
   ],
   "source": [
    "im = plt.imshow(x_train[0], cmap='gray')\n",
    "plt.axis('off')"
   ]
  },
  {
   "cell_type": "code",
   "execution_count": 7,
   "metadata": {
    "scrolled": true
   },
   "outputs": [
    {
     "name": "stdout",
     "output_type": "stream",
     "text": [
      "Y Label: 5\n"
     ]
    }
   ],
   "source": [
    "print(\"Y Label:\", y_train[0])"
   ]
  },
  {
   "cell_type": "markdown",
   "metadata": {},
   "source": [
    "### Reshape the Data"
   ]
  },
  {
   "cell_type": "code",
   "execution_count": 8,
   "metadata": {
    "scrolled": false
   },
   "outputs": [
    {
     "name": "stdout",
     "output_type": "stream",
     "text": [
      "X Train Shape: (60000, 28, 28, 1)\n",
      "X Test Shape: (10000, 28, 28, 1)\n",
      "DateType: float32\n"
     ]
    }
   ],
   "source": [
    "# Reshape to be samples * pixels * width * height\n",
    "x_train = x_train.reshape(\n",
    "    x_train.shape[0], img_rows, img_cols, 1\n",
    ").astype('float32')\n",
    "x_test = x_test.reshape(\n",
    "    x_test.shape[0], img_rows, img_cols, 1\n",
    ").astype('float32')\n",
    "print(\"X Train Shape:\", x_train.shape)\n",
    "print(\"X Test Shape:\", x_test.shape)\n",
    "print(\"DateType:\", x_train.dtype)"
   ]
  },
  {
   "cell_type": "markdown",
   "metadata": {},
   "source": [
    "### Data Normalization"
   ]
  },
  {
   "cell_type": "code",
   "execution_count": 9,
   "metadata": {},
   "outputs": [
    {
     "name": "stdout",
     "output_type": "stream",
     "text": [
      "Max Pixel Value: 255.0 \n",
      "Min Pixel Value: 0.0\n"
     ]
    }
   ],
   "source": [
    "print(\"Max Pixel Value:\", np.max(x_train), \"\\nMin Pixel Value:\", np.min(x_train))"
   ]
  },
  {
   "cell_type": "code",
   "execution_count": 10,
   "metadata": {},
   "outputs": [],
   "source": [
    "# Normalize inputs from 0-255 to 0-1\n",
    "x_train = x_train / 255\n",
    "x_test = x_test / 255"
   ]
  },
  {
   "cell_type": "markdown",
   "metadata": {},
   "source": [
    "### One-Hot Encode"
   ]
  },
  {
   "cell_type": "code",
   "execution_count": 11,
   "metadata": {},
   "outputs": [
    {
     "name": "stdout",
     "output_type": "stream",
     "text": [
      "Y Train Shape: (60000, 10)\n",
      "Y Test Shape: (10000, 10)\n"
     ]
    }
   ],
   "source": [
    "y_train = np_utils.to_categorical(y_train, num_classes)  # Converts a class vector (integers) to binary class matrix.\n",
    "y_test = np_utils.to_categorical(y_test, num_classes)\n",
    "print(\"Y Train Shape:\", y_train.shape)\n",
    "print(\"Y Test Shape:\", y_test.shape)"
   ]
  },
  {
   "cell_type": "code",
   "execution_count": 12,
   "metadata": {},
   "outputs": [
    {
     "name": "stdout",
     "output_type": "stream",
     "text": [
      "One-Hot Sample: [0. 0. 0. 0. 0. 1. 0. 0. 0. 0.]\n"
     ]
    }
   ],
   "source": [
    "print(\"One-Hot Sample:\", y_train[0])"
   ]
  },
  {
   "cell_type": "markdown",
   "metadata": {},
   "source": [
    "## LeNet1"
   ]
  },
  {
   "cell_type": "markdown",
   "metadata": {},
   "source": [
    "### Define the Model"
   ]
  },
  {
   "cell_type": "code",
   "execution_count": 13,
   "metadata": {},
   "outputs": [],
   "source": [
    "data_input_shape = (img_rows, img_cols, 1)"
   ]
  },
  {
   "cell_type": "code",
   "execution_count": 14,
   "metadata": {},
   "outputs": [],
   "source": [
    "# Create model\n",
    "model = Sequential(name=\"LeNet5\")\n",
    "model.add(Conv2D(\n",
    "    32, (5, 5),\n",
    "    input_shape=data_input_shape,\n",
    "    activation='relu',\n",
    "    padding=\"same\",\n",
    "    name=\"Input\"\n",
    "))\n",
    "model.add(MaxPooling2D(\n",
    "    pool_size=(2, 2), name=\"MaxPooling_1\"\n",
    "))\n",
    "model.add(Conv2D(\n",
    "    16, (3, 3), \n",
    "    activation='relu', \n",
    "    padding=\"same\",\n",
    "    name=\"Conv2D\"\n",
    "))\n",
    "model.add(MaxPooling2D(\n",
    "    pool_size=(2, 2), name=\"MaxPooling_2\"\n",
    "))\n",
    "# model.add(Dropout(0.2, name=\"Dropout\"))\n",
    "model.add(Flatten(name=\"Flatten\"))\n",
    "# model.add(Dense(\n",
    "#     128, activation='relu', name=\"Dense_1\"\n",
    "# ))\n",
    "# model.add(Dense(\n",
    "#     64, activation='relu', name=\"Dense_2\"\n",
    "# ))\n",
    "model.add(Dense(\n",
    "    num_classes, \n",
    "    activation='softmax', \n",
    "    name=\"Output\"\n",
    "))"
   ]
  },
  {
   "cell_type": "code",
   "execution_count": 15,
   "metadata": {
    "scrolled": true
   },
   "outputs": [
    {
     "name": "stdout",
     "output_type": "stream",
     "text": [
      "Model: \"LeNet5\"\n",
      "_________________________________________________________________\n",
      "Layer (type)                 Output Shape              Param #   \n",
      "=================================================================\n",
      "Input (Conv2D)               (None, 28, 28, 32)        832       \n",
      "_________________________________________________________________\n",
      "MaxPooling_1 (MaxPooling2D)  (None, 14, 14, 32)        0         \n",
      "_________________________________________________________________\n",
      "Conv2D (Conv2D)              (None, 14, 14, 16)        4624      \n",
      "_________________________________________________________________\n",
      "MaxPooling_2 (MaxPooling2D)  (None, 7, 7, 16)          0         \n",
      "_________________________________________________________________\n",
      "Flatten (Flatten)            (None, 784)               0         \n",
      "_________________________________________________________________\n",
      "Output (Dense)               (None, 10)                7850      \n",
      "=================================================================\n",
      "Total params: 13,306\n",
      "Trainable params: 13,306\n",
      "Non-trainable params: 0\n",
      "_________________________________________________________________\n"
     ]
    }
   ],
   "source": [
    "model.summary()"
   ]
  },
  {
   "cell_type": "markdown",
   "metadata": {},
   "source": [
    "### Training the Model"
   ]
  },
  {
   "cell_type": "code",
   "execution_count": 16,
   "metadata": {
    "scrolled": false
   },
   "outputs": [],
   "source": [
    "model.compile(optimizer='adam', loss='categorical_crossentropy', metrics=['accuracy'])"
   ]
  },
  {
   "cell_type": "code",
   "execution_count": 17,
   "metadata": {
    "scrolled": true
   },
   "outputs": [
    {
     "name": "stdout",
     "output_type": "stream",
     "text": [
      "Epoch 1/10\n",
      "235/235 [==============================] - 1s 6ms/step - loss: 0.4893 - accuracy: 0.8615 - val_loss: 0.1262 - val_accuracy: 0.9637\n",
      "Epoch 2/10\n",
      "235/235 [==============================] - 1s 5ms/step - loss: 0.1049 - accuracy: 0.9686 - val_loss: 0.0744 - val_accuracy: 0.9766\n",
      "Epoch 3/10\n",
      "235/235 [==============================] - 1s 5ms/step - loss: 0.0745 - accuracy: 0.9778 - val_loss: 0.0571 - val_accuracy: 0.9822\n",
      "Epoch 4/10\n",
      "235/235 [==============================] - 1s 5ms/step - loss: 0.0627 - accuracy: 0.9809 - val_loss: 0.0525 - val_accuracy: 0.9823\n",
      "Epoch 5/10\n",
      "235/235 [==============================] - 1s 5ms/step - loss: 0.0529 - accuracy: 0.9841 - val_loss: 0.0517 - val_accuracy: 0.9829\n",
      "Epoch 6/10\n",
      "235/235 [==============================] - 1s 5ms/step - loss: 0.0489 - accuracy: 0.9851 - val_loss: 0.0432 - val_accuracy: 0.9857\n",
      "Epoch 7/10\n",
      "235/235 [==============================] - 1s 5ms/step - loss: 0.0443 - accuracy: 0.9867 - val_loss: 0.0380 - val_accuracy: 0.9870\n",
      "Epoch 8/10\n",
      "235/235 [==============================] - 1s 5ms/step - loss: 0.0407 - accuracy: 0.9876 - val_loss: 0.0358 - val_accuracy: 0.9880\n",
      "Epoch 9/10\n",
      "235/235 [==============================] - 1s 5ms/step - loss: 0.0373 - accuracy: 0.9884 - val_loss: 0.0388 - val_accuracy: 0.9878\n",
      "Epoch 10/10\n",
      "235/235 [==============================] - 1s 5ms/step - loss: 0.0347 - accuracy: 0.9893 - val_loss: 0.0366 - val_accuracy: 0.9874\n"
     ]
    }
   ],
   "source": [
    "batch_size = 256\n",
    "epochs = 10\n",
    "hist = model.fit(x_train, y_train, validation_data=(x_test, y_test), batch_size=batch_size, epochs=epochs, verbose=1)"
   ]
  },
  {
   "cell_type": "markdown",
   "metadata": {},
   "source": [
    "### Model Evaluation"
   ]
  },
  {
   "cell_type": "code",
   "execution_count": 18,
   "metadata": {},
   "outputs": [
    {
     "data": {
      "text/plain": [
       "<matplotlib.legend.Legend at 0x7fac7f5b5390>"
      ]
     },
     "execution_count": 18,
     "metadata": {},
     "output_type": "execute_result"
    },
    {
     "data": {
      "image/png": "[encoded data removed]",
      "text/plain": [
       "<Figure size 432x288 with 1 Axes>"
      ]
     },
     "metadata": {
      "needs_background": "light"
     },
     "output_type": "display_data"
    }
   ],
   "source": [
    "plt.plot(hist.history['accuracy'])\n",
    "plt.plot(hist.history['val_accuracy'])\n",
    "plt.legend(['training', 'validation'], loc='upper left')"
   ]
  },
  {
   "cell_type": "code",
   "execution_count": 19,
   "metadata": {
    "scrolled": true
   },
   "outputs": [
    {
     "name": "stdout",
     "output_type": "stream",
     "text": [
      "313/313 [==============================] - 1s 3ms/step - loss: 0.0366 - accuracy: 0.9874\n"
     ]
    }
   ],
   "source": [
    "evaluate = model.evaluate(x_test, y_test, verbose=1)"
   ]
  },
  {
   "cell_type": "markdown",
   "metadata": {},
   "source": [
    "### Save the Model"
   ]
  },
  {
   "cell_type": "code",
   "execution_count": 20,
   "metadata": {},
   "outputs": [],
   "source": [
    "model_dir = os.path.join(os.path.abspath('.'), \"models\")\n",
    "model_name = \"lenet1.h5\""
   ]
  },
  {
   "cell_type": "code",
   "execution_count": 21,
   "metadata": {},
   "outputs": [
    {
     "name": "stdout",
     "output_type": "stream",
     "text": [
      "[INFO] lenet1.h5 Model File is Successfully Saved!\n"
     ]
    }
   ],
   "source": [
    "if not os.path.exists(model_dir):\n",
    "    # If models directory does not exist, create a directory\n",
    "    os.makedirs(model_dir) \n",
    "    print(\"[INFO]\", model_dir, \"is Successfully Created!\")\n",
    "\n",
    "model.save(os.path.join(model_dir, model_name))\n",
    "print(\"[INFO]\", model_name,\"Model File is Successfully Saved!\")"
   ]
  },
  {
   "cell_type": "markdown",
   "metadata": {},
   "source": [
    "## Priority Score"
   ]
  },
  {
   "cell_type": "markdown",
   "metadata": {},
   "source": [
    "### Reload the Model"
   ]
  },
  {
   "cell_type": "code",
   "execution_count": 22,
   "metadata": {},
   "outputs": [],
   "source": [
    "load_model = load_model(os.path.join(model_dir, model_name))"
   ]
  },
  {
   "cell_type": "code",
   "execution_count": 23,
   "metadata": {
    "scrolled": true
   },
   "outputs": [
    {
     "name": "stdout",
     "output_type": "stream",
     "text": [
      "313/313 [==============================] - 1s 3ms/step - loss: 0.0366 - accuracy: 0.9874\n"
     ]
    }
   ],
   "source": [
    "# load_model.summary()\n",
    "evaluate = load_model.evaluate(x_test, y_test, verbose=1)"
   ]
  },
  {
   "cell_type": "markdown",
   "metadata": {},
   "source": [
    "### Calculate the Priority Score"
   ]
  },
  {
   "cell_type": "code",
   "execution_count": 24,
   "metadata": {},
   "outputs": [],
   "source": [
    "def xi_score(idx, model, base):\n",
    "    x_input = x_test[idx].reshape(-1, img_rows, img_cols, 1)\n",
    "#     predict_label = model.predict_classes(x_input)[0]\n",
    "    predict_list = model.predict(x_input)\n",
    "    predict_label = np.argmax(predict_list, axis=-1)[0]\n",
    "\n",
    "    x_score = - np.inner(\n",
    "        predict_list[0],\n",
    "        np.divide(np.log(predict_list)[0], np.log(base))\n",
    "    )\n",
    "\n",
    "    return predict_list[0], predict_label, x_score"
   ]
  },
  {
   "cell_type": "markdown",
   "metadata": {},
   "source": [
    "### Define a Print Function"
   ]
  },
  {
   "cell_type": "code",
   "execution_count": 25,
   "metadata": {},
   "outputs": [],
   "source": [
    "def xi_print(p_lst, p_class, r_class, score):\n",
    "\n",
    "    col_name = [\"Label\", \"Predict_Probability\", \"FCT\"]\n",
    "    col_len = [len(item) for item in col_name]\n",
    "    total_len = sum(col_len) + 3 * len(col_len) - 1\n",
    "\n",
    "    title = \"Predict Table\"\n",
    "\n",
    "    print(title.center(len(title) + 2).center(total_len, \"=\"))\n",
    "    print('_' * total_len)\n",
    "    print(\n",
    "        \"\", col_name[0], \n",
    "        \"|\", col_name[1], \n",
    "        \"|\", col_name[2], \"\"\n",
    "    )\n",
    "    print(\n",
    "        \"\", \"-\" * col_len[0], \n",
    "        \"|\", \"-\" * col_len[1], \n",
    "        \"|\", \"-\" * col_len[2], \"\"\n",
    "    )\n",
    "\n",
    "    pred_one_hot = np_utils.to_categorical(p_class, num_classes)\n",
    "\n",
    "    for idx, item in zip(range(len(p_lst)), p_lst):\n",
    "        print(\n",
    "            \"\", str(idx).center(col_len[0]), \"|\", \n",
    "            \"%.6e\".rjust(col_len[1] - 8) % item, \"|\", \n",
    "            str(\"*\" * int(pred_one_hot[idx])).center(col_len[2]), \"\"\n",
    "        )\n",
    "\n",
    "    print('=' * total_len)\n",
    "    print(\" Realistic Class :\", r_class)\n",
    "    print(\" Predict Class   :\", p_class)\n",
    "    print(\" Predict Validity:\", p_class == r_class)\n",
    "    print(\" Priority Score  :\", score)\n",
    "    print('_' * total_len)\n",
    "\n",
    "    return True"
   ]
  },
  {
   "cell_type": "markdown",
   "metadata": {},
   "source": [
    "### Example"
   ]
  },
  {
   "cell_type": "code",
   "execution_count": 26,
   "metadata": {},
   "outputs": [
    {
     "name": "stdout",
     "output_type": "stream",
     "text": [
      "Index: 2732\n",
      "========== Predict Table ==========\n",
      "___________________________________\n",
      " Label | Predict_Probability | FCT \n",
      " ----- | ------------------- | --- \n",
      "   0   |        3.757597e-06 |     \n",
      "   1   |        5.022616e-05 |     \n",
      "   2   |        6.802978e-05 |     \n",
      "   3   |        2.589532e-05 |     \n",
      "   4   |        1.722812e-03 |     \n",
      "   5   |        2.447772e-03 |     \n",
      "   6   |        9.930423e-01 |  *  \n",
      "   7   |        5.793725e-08 |     \n",
      "   8   |        2.639110e-03 |     \n",
      "   9   |        4.715353e-08 |     \n",
      "===================================\n",
      " Realistic Class : 6\n",
      " Predict Class   : 6\n",
      " Predict Validity: True\n",
      " Priority Score  : 0.021608677\n",
      "___________________________________\n"
     ]
    }
   ],
   "source": [
    "# For example\n",
    "index = np.random.choice(range(y_test.shape[0]))\n",
    "print(\"Index:\", index)\n",
    "p_list, p_label, x_score = xi_score(index, load_model, num_classes)\n",
    "output = xi_print(p_list, p_label, np.argmax(y_test[index]), x_score)"
   ]
  },
  {
   "cell_type": "code",
   "execution_count": 28,
   "metadata": {},
   "outputs": [
    {
     "name": "stdout",
     "output_type": "stream",
     "text": [
      "\n",
      "[Eg.001] Index.0235:\n"
     ]
    },
    {
     "data": {
      "image/png": "[encoded data removed]",
      "text/plain": [
       "<Figure size 432x288 with 1 Axes>"
      ]
     },
     "metadata": {
      "needs_background": "light"
     },
     "output_type": "display_data"
    },
    {
     "name": "stdout",
     "output_type": "stream",
     "text": [
      "========== Predict Table ==========\n",
      "___________________________________\n",
      " Label | Predict_Probability | FCT \n",
      " ----- | ------------------- | --- \n",
      "   0   |        5.068352e-08 |     \n",
      "   1   |        7.684640e-13 |     \n",
      "   2   |        1.124401e-06 |     \n",
      "   3   |        4.768386e-07 |     \n",
      "   4   |        6.108160e-07 |     \n",
      "   5   |        3.590515e-07 |     \n",
      "   6   |        4.871800e-11 |     \n",
      "   7   |        4.324947e-04 |     \n",
      "   8   |        2.277610e-05 |     \n",
      "   9   |        9.995421e-01 |  *  \n",
      "===================================\n",
      " Realistic Class : 9\n",
      " Predict Class   : 9\n",
      " Predict Validity: True\n",
      " Priority Score  : 0.0017756529\n",
      "___________________________________\n",
      "\n",
      "Quit for the Example? yes/[No]: \n",
      "\n",
      "[Eg.002] Index.7336:\n"
     ]
    },
    {
     "data": {
      "image/png": "[encoded data removed]",
      "text/plain": [
       "<Figure size 432x288 with 1 Axes>"
      ]
     },
     "metadata": {
      "needs_background": "light"
     },
     "output_type": "display_data"
    },
    {
     "name": "stdout",
     "output_type": "stream",
     "text": [
      "========== Predict Table ==========\n",
      "___________________________________\n",
      " Label | Predict_Probability | FCT \n",
      " ----- | ------------------- | --- \n",
      "   0   |        2.206894e-13 |     \n",
      "   1   |        2.330820e-14 |     \n",
      "   2   |        1.111371e-11 |     \n",
      "   3   |        7.721339e-07 |     \n",
      "   4   |        2.384316e-07 |     \n",
      "   5   |        2.848883e-09 |     \n",
      "   6   |        1.391929e-14 |     \n",
      "   7   |        7.889417e-08 |     \n",
      "   8   |        1.433203e-06 |     \n",
      "   9   |        9.999975e-01 |  *  \n",
      "===================================\n",
      " Realistic Class : 9\n",
      " Predict Class   : 9\n",
      " Predict Validity: True\n",
      " Priority Score  : 1.6345824e-05\n",
      "___________________________________\n",
      "\n",
      "Quit for the Example? yes/[No]: \n",
      "\n",
      "[Eg.003] Index.5994:\n"
     ]
    },
    {
     "data": {
      "image/png": "[encoded data removed]",
      "text/plain": [
       "<Figure size 432x288 with 1 Axes>"
      ]
     },
     "metadata": {
      "needs_background": "light"
     },
     "output_type": "display_data"
    },
    {
     "name": "stdout",
     "output_type": "stream",
     "text": [
      "========== Predict Table ==========\n",
      "___________________________________\n",
      " Label | Predict_Probability | FCT \n",
      " ----- | ------------------- | --- \n",
      "   0   |        1.981229e-08 |     \n",
      "   1   |        1.052126e-09 |     \n",
      "   2   |        1.662294e-10 |     \n",
      "   3   |        3.243562e-11 |     \n",
      "   4   |        1.201559e-09 |     \n",
      "   5   |        5.162195e-10 |     \n",
      "   6   |        1.000000e+00 |  *  \n",
      "   7   |        6.349401e-14 |     \n",
      "   8   |        9.244959e-09 |     \n",
      "   9   |        1.215388e-13 |     \n",
      "===================================\n",
      " Realistic Class : 6\n",
      " Predict Class   : 6\n",
      " Predict Validity: True\n",
      " Priority Score  : 2.538168e-07\n",
      "___________________________________\n",
      "\n",
      "Quit for the Example? yes/[No]: \n",
      "\n",
      "[Eg.004] Index.1146:\n"
     ]
    },
    {
     "data": {
      "image/png": "[encoded data removed]",
      "text/plain": [
       "<Figure size 432x288 with 1 Axes>"
      ]
     },
     "metadata": {
      "needs_background": "light"
     },
     "output_type": "display_data"
    },
    {
     "name": "stdout",
     "output_type": "stream",
     "text": [
      "========== Predict Table ==========\n",
      "___________________________________\n",
      " Label | Predict_Probability | FCT \n",
      " ----- | ------------------- | --- \n",
      "   0   |        1.221027e-10 |     \n",
      "   1   |        1.648874e-12 |     \n",
      "   2   |        2.229358e-08 |     \n",
      "   3   |        4.220469e-05 |     \n",
      "   4   |        3.091936e-11 |     \n",
      "   5   |        9.989647e-01 |  *  \n",
      "   6   |        7.195439e-08 |     \n",
      "   7   |        8.422804e-08 |     \n",
      "   8   |        2.820033e-04 |     \n",
      "   9   |        7.109037e-04 |     \n",
      "===================================\n",
      " Realistic Class : 5\n",
      " Predict Class   : 5\n",
      " Predict Validity: True\n",
      " Priority Score  : 0.0038744183\n",
      "___________________________________\n",
      "\n",
      "Quit for the Example? yes/[No]: yes\n"
     ]
    }
   ],
   "source": [
    "key_in = \"\"\n",
    "seed = 0\n",
    "quit_input = [\"y\", \"yes\"]\n",
    "while key_in.lower() not in quit_input:\n",
    "    seed += 1\n",
    "    np.random.seed(seed)\n",
    "    index = np.random.choice(range(y_test.shape[0]))\n",
    "    print(\n",
    "        \"\\n[Eg.\" + str(seed).rjust(3, \"0\") + \\\n",
    "        \"] Index.\" + str(index).rjust(4, \"0\") + \":\"\n",
    "    )\n",
    "    im = plt.imshow(x_test[index].reshape(img_rows, img_cols), cmap='gray')\n",
    "    plt.show()\n",
    "\n",
    "    p_list, p_label, x_score = xi_score(index, load_model, num_classes)\n",
    "    output = xi_print(p_list, p_label, np.argmax(y_test[index]), x_score)\n",
    "\n",
    "    if output:\n",
    "        time.sleep(1)\n",
    "        key_in = input(\"\\nQuit for the Example? yes/[No]: \")\n",
    "    else:\n",
    "        break"
   ]
  }
 ],
 "metadata": {
  "kernelspec": {
   "display_name": "Python 3",
   "language": "python",
   "name": "python3"
  },
  "language_info": {
   "codemirror_mode": {
    "name": "ipython",
    "version": 3
   },
   "file_extension": ".py",
   "mimetype": "text/x-python",
   "name": "python",
   "nbconvert_exporter": "python",
   "pygments_lexer": "ipython3",
   "version": "3.7.7"
  },
  "toc": {
   "base_numbering": 1,
   "nav_menu": {},
   "number_sections": true,
   "sideBar": true,
   "skip_h1_title": true,
   "title_cell": "Table of Contents",
   "title_sidebar": "Contents",
   "toc_cell": false,
   "toc_position": {
    "height": "calc(100% - 180px)",
    "left": "10px",
    "top": "150px",
    "width": "312.102px"
   },
   "toc_section_display": true,
   "toc_window_display": true
  }
 },
 "nbformat": 4,
 "nbformat_minor": 2
}
